{
 "cells": [
  {
   "cell_type": "markdown",
   "metadata": {},
   "source": [
    "\n",
    "\n",
    "[Rubric](https://review.udacity.com/#!/rubrics/916/view)"
   ]
  },
  {
   "cell_type": "code",
   "execution_count": null,
   "metadata": {},
   "outputs": [],
   "source": [
    "Discuss test notebook\n",
    "how modifeid function for obs and rock identification\n",
    "    \n",
    "    \n",
    "Describe in your writeup how you modified the process_image() to demonstrate your analysis and how you created a worldmap. Include your video output with your submission.\n",
    "    \n",
    "\n",
    "    perception_step() and decision_step() functions have been filled in and their functionality explained in the writeup. \n",
    "\n",
    "Note: running the simulator with different choices of resolution and graphics quality may produce different results, particularly on different machines! Make a note of your simulator settings (resolution and graphics quality set on launch) and frames per second (FPS output to terminal by drive_rover.py) in your writeup when you submit the project so your reviewer can reproduce your results\n",
    "\n",
    "\n",
    "To have a standout submission on this project you should not only successfully navigate and map the environment in \"Autonomous Mode\", but also figure out how to collect the samples and return them to the starting point (middle of the map) when you have found them all!\n",
    "\n"
   ]
  }
 ],
 "metadata": {
  "kernelspec": {
   "display_name": "Python 2",
   "language": "python",
   "name": "python2"
  },
  "language_info": {
   "codemirror_mode": {
    "name": "ipython",
    "version": 2
   },
   "file_extension": ".py",
   "mimetype": "text/x-python",
   "name": "python",
   "nbconvert_exporter": "python",
   "pygments_lexer": "ipython2",
   "version": "2.7.6"
  }
 },
 "nbformat": 4,
 "nbformat_minor": 0
}
